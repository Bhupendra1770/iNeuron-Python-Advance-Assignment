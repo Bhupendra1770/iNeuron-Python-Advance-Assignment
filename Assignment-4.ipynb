{
 "cells": [
  {
   "cell_type": "markdown",
   "id": "8f56fa86",
   "metadata": {},
   "source": [
    "### Q1. Which two operator overloading methods can you use in your classes to support iteration?\n",
    "Ans: \"_ _ _iter_ _ _\" and \"_ _ _next_ _ _\" are the operator overloading methods in python that support iteration and are collectively called iterator protocol.\n",
    "\n",
    "\"_ _ _iter_ _ _\" returns the iterator object and is called at the start of loop in our respective class.\n",
    "\n",
    "\"_ _ _next_ _ _\" is called at each loop increment, it returns the incremented value. Also Stopiteration is raised when there is no value to return."
   ]
  },
  {
   "cell_type": "markdown",
   "id": "17ae5985",
   "metadata": {},
   "source": [
    "### Q2. In what contexts do the two operator overloading methods manage printing?\n",
    "Ans: \"_ _ _str_ _ _ \" and \"_ _ _repr_ _ _\" are two operator overloading methods that manage printing."
   ]
  },
  {
   "cell_type": "markdown",
   "id": "51ae9c16",
   "metadata": {},
   "source": [
    "### Q3. In a class, how do you intercept slice operations?\n",
    "Ans: slice is a constructor in Python that creates slice object to represent set of indices that the range(start, stop, step) specifies._ _ _getitem_ _ _ method can be implement in a class, and the behavior of slicing can be defined inside it.\n"
   ]
  },
  {
   "cell_type": "markdown",
   "id": "e340c808",
   "metadata": {},
   "source": [
    "### Q4. In a class, how do you capture in-place addition?\n",
    "Ans:\"a+=b\" is inplace addition operation. In this in-place addition \"a\" itself will store the value of addition. In a class \"_ _ _iadd_ _ _\" method is used for this in-place operation"
   ]
  },
  {
   "cell_type": "markdown",
   "id": "a87416c2",
   "metadata": {},
   "source": [
    "### Q5. When is it appropriate to use operator overloading?\n",
    "Ans: Operator Overloading means giving extended meaning beyond their predefined operational meaning. For example operator + is used to add two integers as well as join two strings and merge two lists. It is achievable because '+' operator is overloaded by int class and str class."
   ]
  },
  {
   "cell_type": "code",
   "execution_count": 7,
   "id": "7a293825",
   "metadata": {},
   "outputs": [
    {
     "name": "stdout",
     "output_type": "stream",
     "text": [
      "3\n",
      "IneuronFSDS\n",
      "3\n",
      "IneuronFSDS\n",
      "3\n",
      "IneuronFSDS\n"
     ]
    }
   ],
   "source": [
    "class A:\n",
    "    def __init__(self, a):\n",
    "        self.a = a\n",
    " \n",
    "    # adding two objects\n",
    "    def __add__(self, o):\n",
    "        return self.a + o.a\n",
    "ob1 = A(1)\n",
    "ob2 = A(2)\n",
    "ob3 = A(\"Ineuron\")\n",
    "ob4 = A(\"FSDS\")\n",
    " \n",
    "print(ob1 + ob2)\n",
    "print(ob3 + ob4)\n",
    "# Actual working when Binary Operator is used.\n",
    "print(A.__add__(ob1 , ob2))\n",
    "print(A.__add__(ob3,ob4))\n",
    "#And can also be Understand as :\n",
    "print(ob1.__add__(ob2))\n",
    "print(ob3.__add__(ob4))"
   ]
  }
 ],
 "metadata": {
  "kernelspec": {
   "display_name": "Python 3 (ipykernel)",
   "language": "python",
   "name": "python3"
  },
  "language_info": {
   "codemirror_mode": {
    "name": "ipython",
    "version": 3
   },
   "file_extension": ".py",
   "mimetype": "text/x-python",
   "name": "python",
   "nbconvert_exporter": "python",
   "pygments_lexer": "ipython3",
   "version": "3.9.12"
  }
 },
 "nbformat": 4,
 "nbformat_minor": 5
}
