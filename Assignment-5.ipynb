{
 "cells": [
  {
   "cell_type": "markdown",
   "id": "e362f746",
   "metadata": {},
   "source": [
    "### Q1. What is the meaning of multiple inheritance?\n",
    "Ans: Inheritence is nothing but reusing the code of Parent class by the child class. Similary when a child class inherits its properties from multiple Parent classes this scenario is called \"Multiple Inheritence\""
   ]
  },
  {
   "cell_type": "code",
   "execution_count": 1,
   "id": "a98f7ea1",
   "metadata": {},
   "outputs": [],
   "source": [
    "class Parent_one:\n",
    "    pass\n",
    "class Parent_two:\n",
    "    pass\n",
    "class child(Parent_one,Parent_two):\n",
    "    pass"
   ]
  },
  {
   "cell_type": "markdown",
   "id": "7754af4c",
   "metadata": {},
   "source": [
    "### Q2. What is the concept of delegation?\n",
    "Ans: The delegation pattern is an object-oriented design pattern that allows object composition to achieve the same code reuse as inheritance.Simply Delegation means that you can include a instance of another class as an instance variable, and forward messages to the instance."
   ]
  },
  {
   "cell_type": "markdown",
   "id": "1780a4d4",
   "metadata": {},
   "source": [
    "### Q3. What is the concept of composition?\n",
    "Ans: In the concept of Composition, a class refers to one or more other classes by using instances of those classes as a instance variable. irrespective of inheritence in this approach all the parent class members are not inherited into child class, but only required methods from a class are used by using class instances."
   ]
  },
  {
   "cell_type": "markdown",
   "id": "a2ef17c2",
   "metadata": {},
   "source": [
    "### Q4. What are bound methods and how do we use them?\n",
    "Ans: If a function is an attribute of class and it is accessed via the instances, they are called \"bound methods\". A bound method is one that has \"self\" as its first argument. Since these are dependent on the instance of classes, these are also known as \"instance methods\"."
   ]
  },
  {
   "cell_type": "markdown",
   "id": "a79059af",
   "metadata": {},
   "source": [
    "### Q5. What is the purpose of pseudoprivate attributes?\n",
    "Ans: Within a class method in Python, whenever a method assigns to a self attribute (e.g., self.attr=value), it changes or creates an attribute in the instance (inheritance search only happens on reference, not assignment). Because this is true even if multiple classes in a hierarchy assign to the same attribute, collisions are possible.Pseudoprivate names also prevent subclasses from accidentally redefining the internal method's names."
   ]
  },
  {
   "cell_type": "code",
   "execution_count": 16,
   "id": "17e60a41",
   "metadata": {},
   "outputs": [
    {
     "name": "stdout",
     "output_type": "stream",
     "text": [
      "Public method\n",
      "Private method\n",
      "\n",
      "Inside derived class\n",
      "Public method\n",
      "Private method\n"
     ]
    }
   ],
   "source": [
    "# Creating a Base class\n",
    "class Base:\n",
    " \n",
    "    # Declaring public method\n",
    "    def fun(self):\n",
    "        print(\"Public method\")\n",
    " \n",
    "    # Declaring private method\n",
    "    def __fun(self):\n",
    "        print(\"Private method\")\n",
    "    \n",
    "    # Calling private method via\n",
    "    # another method    \n",
    "    def help(self):\n",
    "        self.__fun()\n",
    " # Creating a derived class\n",
    " \n",
    "class Derived(Base):\n",
    "    def __init__(self):\n",
    " \n",
    "        # Calling constructor of\n",
    "        # Base class\n",
    "        Base.__init__(self)\n",
    " \n",
    "    def call_public(self):\n",
    " \n",
    "        # Calling public method of base class\n",
    "        print(\"\\nInside derived class\")\n",
    "        self.fun()\n",
    " \n",
    "    def call_private(self):\n",
    " \n",
    "        # Calling private method of base class\n",
    "        self.__fun()\n",
    "\n",
    " #Driver code\n",
    "obj1 = Base()\n",
    " \n",
    "obj1.fun()\n",
    "obj1.help() #calling private method via another method\n",
    "#obj1.__fun() #will raise an AttributeError\n",
    "\n",
    " \n",
    "obj2 = Derived()\n",
    "obj2.call_public()\n",
    "obj2.help()\n",
    "\n",
    "#obj2.call_private()  # will also raise an AttributeError"
   ]
  }
 ],
 "metadata": {
  "kernelspec": {
   "display_name": "Python 3 (ipykernel)",
   "language": "python",
   "name": "python3"
  },
  "language_info": {
   "codemirror_mode": {
    "name": "ipython",
    "version": 3
   },
   "file_extension": ".py",
   "mimetype": "text/x-python",
   "name": "python",
   "nbconvert_exporter": "python",
   "pygments_lexer": "ipython3",
   "version": "3.9.12"
  }
 },
 "nbformat": 4,
 "nbformat_minor": 5
}
