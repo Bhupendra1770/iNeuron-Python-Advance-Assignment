{
 "cells": [
  {
   "cell_type": "markdown",
   "id": "112ac6ef",
   "metadata": {},
   "source": [
    "### Q1. What is the purpose of the try statement?\n",
    "Ans:The try block lets you test a block of code for errors. If any error present in try block Then except block handle the error. The else block lets you execute code when there is no error."
   ]
  },
  {
   "cell_type": "code",
   "execution_count": 1,
   "id": "7ae89888",
   "metadata": {},
   "outputs": [
    {
     "name": "stdout",
     "output_type": "stream",
     "text": [
      "Division by Zero is Not Possible\n"
     ]
    }
   ],
   "source": [
    "try:\n",
    "    print(10/0)\n",
    "except ZeroDivisionError:\n",
    "    print('Division by Zero is Not Possible')"
   ]
  },
  {
   "cell_type": "markdown",
   "id": "788fb2b6",
   "metadata": {},
   "source": [
    "#### Q2. What are the two most popular try statement variations?\n",
    "Ans:\n",
    "- try , except\n",
    "- try , except , finally\n",
    "\n",
    "The \"try\" block is used to check code for exceptions during runtime. where as code inside \"try\" block will execute completely when there is no error in the program. Whereas the code inside \"except\" block will execute whenever the program encounters some error in the preceeding \"try\" block.The code in the \"finally\" block will execute irrespective of exception."
   ]
  },
  {
   "cell_type": "markdown",
   "id": "a2eb56b0",
   "metadata": {},
   "source": [
    "### Q3. What is the purpose of the raise statement?\n",
    "Ans:The raise keyword is used to raise an exception. You can define what kind of error to raise, and the text to print to the user.As per your program requirements."
   ]
  },
  {
   "cell_type": "markdown",
   "id": "e5768550",
   "metadata": {},
   "source": [
    "### Q4. What does the assert statement do, and what other statement is it like?\n",
    "Ans: The assert keyword lets you test if a condition in your code returns True, if not, the program will raise an AssertionError. You can write a message to be written if the code returns False."
   ]
  },
  {
   "cell_type": "code",
   "execution_count": 2,
   "id": "a763fe6c",
   "metadata": {},
   "outputs": [
    {
     "ename": "AssertionError",
     "evalue": "this is not a valid statement",
     "output_type": "error",
     "traceback": [
      "\u001b[1;31m---------------------------------------------------------------------------\u001b[0m",
      "\u001b[1;31mAssertionError\u001b[0m                            Traceback (most recent call last)",
      "Input \u001b[1;32mIn [2]\u001b[0m, in \u001b[0;36m<cell line: 1>\u001b[1;34m()\u001b[0m\n\u001b[1;32m----> 1\u001b[0m \u001b[38;5;28;01massert\u001b[39;00m(\u001b[38;5;124m'\u001b[39m\u001b[38;5;124ma\u001b[39m\u001b[38;5;124m'\u001b[39m \u001b[38;5;241m==\u001b[39m \u001b[38;5;241m7\u001b[39m), \u001b[38;5;124m'\u001b[39m\u001b[38;5;124mthis is not a valid statement\u001b[39m\u001b[38;5;124m'\u001b[39m\n",
      "\u001b[1;31mAssertionError\u001b[0m: this is not a valid statement"
     ]
    }
   ],
   "source": [
    "assert('a' == 7), 'this is not a valid statement'"
   ]
  },
  {
   "cell_type": "markdown",
   "id": "f1750d65",
   "metadata": {},
   "source": [
    "### Q5. What is the purpose of the with/as argument, and what other statement is it like?\n",
    "Ans:In Python, the with statement replaces a try-catch block with a concise shorthand. More importantly, it ensures closing resources right after processing them.This avoids triggering of exceptions if file closing is unknowingly forgotten in the code execution. A common example of using the with statement is reading or writing to a file.\n"
   ]
  }
 ],
 "metadata": {
  "kernelspec": {
   "display_name": "Python 3 (ipykernel)",
   "language": "python",
   "name": "python3"
  },
  "language_info": {
   "codemirror_mode": {
    "name": "ipython",
    "version": 3
   },
   "file_extension": ".py",
   "mimetype": "text/x-python",
   "name": "python",
   "nbconvert_exporter": "python",
   "pygments_lexer": "ipython3",
   "version": "3.9.12"
  }
 },
 "nbformat": 4,
 "nbformat_minor": 5
}
