{
 "cells": [
  {
   "cell_type": "markdown",
   "id": "6g79871c8",
   "metadata": {},
   "source": [
    "### Q1. What is the purpose of Python's OOP?"
   ]
  },
  {
   "cell_type": "markdown",
   "id": "78575b841",
   "metadata": {},
   "source": [
    "Ans: OOP stands for \"Object-Oriented Programming\". As you can guess from it’s name it breaks the program on the basis of the objects in it. It mainly works on Class, Object, Polymorphism, Abstraction, Encapsulation and Inheritance. Its aim is to bind together the data and functions to operate on them.\n",
    "\n",
    "some important purpose:\n",
    "1. We can build the programs from standard working modules that communicate with one another, rather than having to start writing the code from scratch which leads to saving of development time and higher productivity,\n",
    "2. OOP language allows to break the program into the bit-sized problems that can be solved easily (one object at a time).\n",
    "3. The new technology promises greater programmer productivity, better quality of software and lesser maintenance cost.\n",
    "4. OOP systems can be easily upgraded from small to large systems.\n",
    "5. It is possible that multiple instances of objects co-exist without any interference,\n",
    "6. It is very easy to partition the work in a project based on objects.\n",
    "7. The principle of data hiding helps the programmer to build secure programs which cannot be invaded by the code in other parts of the program.\n",
    "8. By using inheritance, we can eliminate redundant code and extend the use of existing classes."
   ]
  },
  {
   "cell_type": "markdown",
   "id": "g56cd4e1",
   "metadata": {},
   "source": [
    "### Q2. Where does an inheritance search look for an attribute?\n",
    "Ans: It first searches for the attribute in its instance and then looks in the class it is generated from, to all super classes listed in its class header."
   ]
  },
  {
   "cell_type": "markdown",
   "id": "787d7b0b",
   "metadata": {},
   "source": [
    "### Q3. How do you distinguish between a class object and an instance object?\n",
    "Ans: The differences between a class object and an instance object are:\n",
    "1. Class is a template for creating objects whereas object is an instance of class\n",
    "2. Seperate memory is allocated for each object whenever an object is created. but for a class this doesnot happens.\n",
    "3. A Class is created once. Many objects are created using a class.\n",
    "4. As Classes have no allocated memory. they can't be manipulated. but objects can be manipulated."
   ]
  },
  {
   "cell_type": "markdown",
   "id": "342cc6bc",
   "metadata": {},
   "source": [
    "### Q4. What makes the first argument in a class’s method function special?\n",
    "Ans: \n",
    "    \"self\" is the first argument for instance methods. which refers to the object itself.\n",
    "    \n",
    "    \"cls\" is the first argument for class methods which refers to the class itself."
   ]
  },
  {
   "cell_type": "markdown",
   "id": "7l3e0426",
   "metadata": {},
   "source": [
    "### Q5. What is the purpose of the __init__ method?\n",
    "Ans: \"__init__\" is a reseved method in python classes. It serves the role of a constructor in object oriented terminology. This method is called when an object is created from a class and it allows the class to initialize the attributes of the class."
   ]
  },
  {
   "cell_type": "markdown",
   "id": "3sd4943f",
   "metadata": {},
   "source": [
    "### Q6. What is the process for creating a class instance?\n",
    "Ans: To create a class instance, we need to call the class by its name and pass the arguments to the class, which we have passed in its init method."
   ]
  },
  {
   "cell_type": "markdown",
   "id": "l89u33a9",
   "metadata": {},
   "source": [
    "### Q7. What is the process for creating a class?\n",
    "Ans:\"class\" keyword is used to created a class in python. The syntax to create a class in python is  \"class classname:\" "
   ]
  },
  {
   "cell_type": "markdown",
   "id": "778c5kl97",
   "metadata": {},
   "source": [
    "### Q8. How would you define the superclasses of a class?\n",
    "Ans: A superclass is the class from which many subclasses can be created. The subclasses inherit the characteristics of a superclass. The superclass is also known as the parent class or base class.\n",
    "\n",
    "Ex: \"class Car(Vehicle):\" Here child class \"Car\" inherits attributes and methods from Superclass/Parent \"Vehicle\""
   ]
  }
 ],
 "metadata": {
  "kernelspec": {
   "display_name": "Python 3 (ipykernel)",
   "language": "python",
   "name": "python3"
  },
  "language_info": {
   "codemirror_mode": {
    "name": "ipython",
    "version": 3
   },
   "file_extension": ".py",
   "mimetype": "text/x-python",
   "name": "python",
   "nbconvert_exporter": "python",
   "pygments_lexer": "ipython3",
   "version": "3.9.12"
  }
 },
 "nbformat": 4,
 "nbformat_minor": 5
}
