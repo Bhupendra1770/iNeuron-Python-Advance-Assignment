{
 "cells": [
  {
   "cell_type": "markdown",
   "id": "a7789fdc",
   "metadata": {},
   "source": [
    "### Q1. What is the concept of a metaclass?\n"
   ]
  },
  {
   "cell_type": "markdown",
   "id": "49b27169",
   "metadata": {},
   "source": [
    "Ans: Metaclass in Python is a class of a class that defines how a class behaves. A class is itself a instance of Metaclass, and any Instance of Class in Python is an Instance of type metaclass. E.g. Type of of 'int', 'str', 'float', 'list', 'tuple' and many more is of metaclass type. "
   ]
  },
  {
   "cell_type": "markdown",
   "id": "a7c66156",
   "metadata": {},
   "source": [
    "### Q2. What is the best way to declare a class's metaclass?"
   ]
  },
  {
   "cell_type": "markdown",
   "id": "544fdcc0",
   "metadata": {},
   "source": [
    "Ans: A way to declare a class's metaclass is by using metaclass keyword in class definition."
   ]
  },
  {
   "cell_type": "markdown",
   "id": "938e3718",
   "metadata": {},
   "source": [
    "### Q3. How do class decorators overlap with metaclasses for handling classes ?"
   ]
  },
  {
   "cell_type": "markdown",
   "id": "6f0f19b6",
   "metadata": {},
   "source": [
    "Ans: Anything you can do with a class decorator, you can of course do with a custom metaclasses (just apply the functionality of the \"decorator function\", i.e., the one that takes a class object and modifies it, in the course of the metaclass's _ _ _new_ _ _ or _ _ _init_ _ _ that make the class object!)."
   ]
  },
  {
   "cell_type": "markdown",
   "id": "1b27ffac",
   "metadata": {},
   "source": [
    "### Q4. How do class decorators overlap with metaclasses for handling instances?"
   ]
  },
  {
   "cell_type": "markdown",
   "id": "b8433bf4",
   "metadata": {},
   "source": [
    "Ans:  Anything you can do with a class decorator, you can of course do with a custom metaclass (just apply the functionality of the \"decorator function\", the one that takes a class object and modifies it, in the course of the metaclass's _ _ _new_ _ _ or _ _ _init_ _ _ that make the class object!)."
   ]
  }
 ],
 "metadata": {
  "kernelspec": {
   "display_name": "Python 3 (ipykernel)",
   "language": "python",
   "name": "python3"
  },
  "language_info": {
   "codemirror_mode": {
    "name": "ipython",
    "version": 3
   },
   "file_extension": ".py",
   "mimetype": "text/x-python",
   "name": "python",
   "nbconvert_exporter": "python",
   "pygments_lexer": "ipython3",
   "version": "3.9.12"
  }
 },
 "nbformat": 4,
 "nbformat_minor": 5
}
