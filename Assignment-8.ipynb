{
 "cells": [
  {
   "cell_type": "markdown",
   "id": "a7e72745",
   "metadata": {},
   "source": [
    "### Q1. What are the two latest user-defined exception constraints in Python 3.X?\n",
    "Ans: \"raise\" and \"assert\" are the two latest user-defined exception constraints in Python 3.X"
   ]
  },
  {
   "cell_type": "markdown",
   "id": "50a79448",
   "metadata": {},
   "source": [
    "### Q2. How are class-based exceptions that have been raised matched to handlers?\n",
    "Ans: We can define custom exceptions by creating a new class. This exception class has to be derived, either directly or indirectly from built-in \"Exception\" class. After making a custum class for exception we can \"raise\" statement with an optional error message as we want."
   ]
  },
  {
   "cell_type": "code",
   "execution_count": 1,
   "id": "f54a781d",
   "metadata": {},
   "outputs": [
    {
     "ename": "Custom_Exception",
     "evalue": "Value provided in program is wrong",
     "output_type": "error",
     "traceback": [
      "\u001b[1;31m---------------------------------------------------------------------------\u001b[0m",
      "\u001b[1;31mCustom_Exception\u001b[0m                          Traceback (most recent call last)",
      "Input \u001b[1;32mIn [1]\u001b[0m, in \u001b[0;36m<cell line: 5>\u001b[1;34m()\u001b[0m\n\u001b[0;32m      3\u001b[0m         \u001b[38;5;28mself\u001b[39m\u001b[38;5;241m.\u001b[39merror \u001b[38;5;241m=\u001b[39m error\n\u001b[0;32m      4\u001b[0m a \u001b[38;5;241m=\u001b[39m \u001b[38;5;241m17\u001b[39m\n\u001b[1;32m----> 5\u001b[0m \u001b[38;5;28;01mif\u001b[39;00m a \u001b[38;5;241m!=\u001b[39m \u001b[38;5;241m18\u001b[39m : \u001b[38;5;28;01mraise\u001b[39;00m Custom_Exception(\u001b[38;5;124m'\u001b[39m\u001b[38;5;124mValue provided in program is wrong\u001b[39m\u001b[38;5;124m'\u001b[39m)\n",
      "\u001b[1;31mCustom_Exception\u001b[0m: Value provided in program is wrong"
     ]
    }
   ],
   "source": [
    "class Custom_Exception(Exception):  \n",
    "    def __init__(self,error):\n",
    "        self.error = error\n",
    "a = 17\n",
    "if a != 18 : raise Custom_Exception('Value provided in program is wrong')"
   ]
  },
  {
   "cell_type": "markdown",
   "id": "8a1e7a10",
   "metadata": {},
   "source": [
    "### Q3. Describe two methods for attaching context information to exception artefacts ?\n",
    "Ans: The \"process()\" method of LoggerAdapter is where the contextual information is added to the logging output. its passes the message and keyword arguments of the logging call, and it passes back modified versions of these to use in the call to the underlying logger.\n",
    "\n",
    "Other method that can be used is \"exception()\", Logs a messgae with level ERROR on this logger. Exception info is added to the logging message."
   ]
  },
  {
   "cell_type": "markdown",
   "id": "8e1ed765",
   "metadata": {},
   "source": [
    "### Q4. Describe two methods for specifying the text of an exception object's error message ?\n",
    "Ans: \"raise\" and \"assert\" are two methods for specifying the text of an exception object's error message.\"raise\" statement is used to trigger explicit exception, if certain condition is not as per requirement of programmer.\n",
    "\n",
    "There are few assertions that programmer always want to be True to avoid code failure. This type of requirment is fullfilled by \"assert\" statement. This statement takes a Boolean Condition output of which if True, further program executes. if output of assert statement is False it raises an \"Assertion Error\"."
   ]
  },
  {
   "cell_type": "markdown",
   "id": "78a5df7b",
   "metadata": {},
   "source": [
    "### Q5. Why do you no longer use string-based exceptions?\n"
   ]
  },
  {
   "cell_type": "markdown",
   "id": "a17f8eb3",
   "metadata": {},
   "source": [
    "Ans: This is because with string exceptions, F or examplethe ,exception raised is \"TypeError: unpack non-tuple\", while with class exceptions it is \"ValueError: unpack sequence of wrong size\". This is because a string is a sequence; we must assume that error messages are always more than two characters long."
   ]
  }
 ],
 "metadata": {
  "kernelspec": {
   "display_name": "Python 3 (ipykernel)",
   "language": "python",
   "name": "python3"
  },
  "language_info": {
   "codemirror_mode": {
    "name": "ipython",
    "version": 3
   },
   "file_extension": ".py",
   "mimetype": "text/x-python",
   "name": "python",
   "nbconvert_exporter": "python",
   "pygments_lexer": "ipython3",
   "version": "3.9.12"
  }
 },
 "nbformat": 4,
 "nbformat_minor": 5
}
