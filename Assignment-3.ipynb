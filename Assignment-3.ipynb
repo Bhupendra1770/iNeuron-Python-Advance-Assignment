{
 "cells": [
  {
   "cell_type": "markdown",
   "id": "7658e68b",
   "metadata": {},
   "source": [
    "### 1. What is the concept of an abstract superclass?\n",
    "Ans:  An abstract class in Python is typically created to declare a set of methods that must be created in any child class built on top of this abstract class. A class which contains one or more abstract methods is called an abstract class.Whereas an abstract method is a method that has a declaration but does not have an implementation"
   ]
  },
  {
   "cell_type": "markdown",
   "id": "7a349a25",
   "metadata": {},
   "source": [
    "### 2. What happens when a class statement's top level contains a basic assignment statement?\n",
    "Ans: When a Class statement's top level contains a basic assignment statement, its usually treated as a class attribute or class level variable. \n",
    "where as assignment statements inside methods are treated as instance attributes or local attributes.\n"
   ]
  },
  {
   "cell_type": "markdown",
   "id": "45f231b3",
   "metadata": {},
   "source": [
    "### 3. Why does a class need to manually call a superclass's __init__ method?\n",
    "Ans: if a child class has __init__ method, then it will not inherit the \"__init__\" method of the parent class or override the __init__ method of parent class. so we have to manually call a parent superclass's \"__init__\" using \"super()\" method."
   ]
  },
  {
   "cell_type": "code",
   "execution_count": 2,
   "id": "0e2162f0",
   "metadata": {},
   "outputs": [
    {
     "name": "stdout",
     "output_type": "stream",
     "text": [
      "{'name': 'Devid', 'age': 24, 'salary': 17000}\n"
     ]
    }
   ],
   "source": [
    "class Person:\n",
    "    def __init__(self,name,age):\n",
    "        self.name = name\n",
    "        self.age = age       \n",
    "class Employee(Person):\n",
    "    def __init__(self,name,age,salary):\n",
    "        super().__init__(name,age)\n",
    "        self.salary = salary\n",
    "emp = Employee('Devid',24,17000)\n",
    "print(emp.__dict__)"
   ]
  },
  {
   "cell_type": "markdown",
   "id": "a8468111",
   "metadata": {},
   "source": [
    "### 4. How can you augment, instead of completely replacing, an inherited method?\n",
    "Ans: \"super()\" method can be used to augment, instead of completely replacing, an inherited method."
   ]
  },
  {
   "cell_type": "code",
   "execution_count": 4,
   "id": "13dbf527",
   "metadata": {},
   "outputs": [
    {
     "name": "stdout",
     "output_type": "stream",
     "text": [
      "{'name': 'Devid', 'age': 24, 'salary': 17000}\n"
     ]
    }
   ],
   "source": [
    "class Person:\n",
    "    def __init__(self,name,age):\n",
    "        self.name = name\n",
    "        self.age = age       \n",
    "class Employee(Person):\n",
    "    def __init__(self,name,age,salary):\n",
    "        super().__init__(name,age)  #using super method\n",
    "        self.salary = salary\n",
    "emp = Employee('Devid',24,17000)\n",
    "print(emp.__dict__)     "
   ]
  },
  {
   "cell_type": "markdown",
   "id": "4e259793",
   "metadata": {},
   "source": [
    "### 5. How is the local scope of a class different from that of a function?\n",
    "Ans: A Variable which is defined inside a function is local to that function. it is accesible from the point at which it is defined until the end of the function, and exists for as long as the function is existing.\n",
    "\n",
    "A variable inside of a class also has a local variable scope. Variables which are defined in the class body (but outside all methods) are called as class level variables or class attributes.They can also be accessed from outside.\n",
    "\n"
   ]
  }
 ],
 "metadata": {
  "kernelspec": {
   "display_name": "Python 3 (ipykernel)",
   "language": "python",
   "name": "python3"
  },
  "language_info": {
   "codemirror_mode": {
    "name": "ipython",
    "version": 3
   },
   "file_extension": ".py",
   "mimetype": "text/x-python",
   "name": "python",
   "nbconvert_exporter": "python",
   "pygments_lexer": "ipython3",
   "version": "3.9.12"
  }
 },
 "nbformat": 4,
 "nbformat_minor": 5
}
