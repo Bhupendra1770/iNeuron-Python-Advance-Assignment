{
 "cells": [
  {
   "cell_type": "markdown",
   "id": "41e50838",
   "metadata": {},
   "source": [
    "### Q1. What is the relationship between classes and modules?\n",
    "Ans: Classes provide an easy way of keeping the data members and methods together in one place which helps in keeping the program more organized.\n",
    "Using classes also provides another functionality of this object-oriented programming paradigm, that is, inheritance.\n",
    "\n",
    "Modules are simply files with the \". py\" extension containing Python code that can be imported inside another Python Program. In simple terms, we can consider a module to be the same as a code library or a file that contains a set of functions/Classes that you want to include in your program."
   ]
  },
  {
   "cell_type": "markdown",
   "id": "786e3b82",
   "metadata": {},
   "source": [
    "### Q2. How do you make instances and classes?\n",
    "Ans: For creating a class instance. we call a class by its name and pass the arguments which its \"__init__\" method accepts.\n",
    "\n",
    "Whereas for creating a class, we use the \"Class\" keyword. Class keyword is followed by classname and semicolon."
   ]
  },
  {
   "cell_type": "markdown",
   "id": "8c7e8f3c",
   "metadata": {},
   "source": [
    "### Q3. Where and how should be class attributes created?\n",
    "Ans: Class attributes are the variables defined directly in the class that are shared by all objects of the class. Hence these attributes are usually created/defined in the top of class definiation outside all methods.\n",
    "\n",
    "Example: In the below example, count is an attribute in the Student class. Whenever a new object is created, the value of count is incremented by 1. You can now access the count attribute after creating the objects.\n",
    "\n",
    "class Student:\n",
    "\n",
    "    count = 0\n",
    "    \n",
    "    def __init__(self):\n",
    "    \n",
    "        Student.count += 1   "
   ]
  },
  {
   "cell_type": "markdown",
   "id": "9f344e75",
   "metadata": {},
   "source": [
    "### Q4. Where and how are instance attributes created?\n",
    "Ans: Instances attributes are passed to the class when an object of the class is created. Unlike class attributes, instance attributes are not shared by all objects of the classs. instead each object maintains its own copy of instance attributes at object level. whereas incase of class attributes all instances of class refer to a single copy. Usually instance attributes are defined within the \"__init__\" method of class."
   ]
  },
  {
   "cell_type": "markdown",
   "id": "1f528045",
   "metadata": {},
   "source": [
    "### Q5. What does the term \"self\" in a Python class mean?\n",
    "Ans: Self is the first argument to be passed in Constructor and Instance Method.\"self\" represents the instance of the class (it represents the object itself). By using the “self” keyword we can access the attributes and methods of the class with in the class in python. It binds the attributes with the given arguments."
   ]
  },
  {
   "cell_type": "markdown",
   "id": "d87ed178",
   "metadata": {},
   "source": [
    "### Q6. How does a Python class handle operator overloading?\n",
    "Ans: Python Classes handle operator overloading by using special methods called \"Magic methods\". these special methods usually begin and end with \"__\" (double underscore)  \n",
    "Example:\n",
    "\"+ =\t__add__(self, other)\"      ,      \"– =\t__sub__(self, other)\"\n",
    "\n",
    "\"* =\t__mul__(self, other)\"       ,     \"/ =\t__truediv__(self, other)\"\n",
    "\n",
    "\"// =\t__floordiv__(self, other)\"    ,   \"% = __mod__(self, other)\"\n",
    "\n",
    "\"** = __pow__(self, other)\"       ,       \"& =\t__and__(self, other)\"\n",
    "\n",
    "\"| =\t__or__(self, other)\"\n"
   ]
  },
  {
   "cell_type": "markdown",
   "id": "767d9d7e",
   "metadata": {},
   "source": [
    "### Q7. When do you consider allowing operator overloading of your classes?\n",
    "Ans: When we want to have different meaning for the same operator accroding to the context we use operator overloading."
   ]
  },
  {
   "cell_type": "markdown",
   "id": "9901ea2f",
   "metadata": {},
   "source": [
    "### Q8. What is the most popular form of operator overloading?\n",
    "Ans: The most popular form of operator overloading in python is by special methods called \"Magic methods\". Which usually beign and end with double underscore \"__method name__\"."
   ]
  },
  {
   "cell_type": "code",
   "execution_count": 7,
   "id": "fl144677",
   "metadata": {},
   "outputs": [
    {
     "name": "stdout",
     "output_type": "stream",
     "text": [
      "Sum = 3\n",
      "String Concatenation = iNeuronFSDS\n"
     ]
    }
   ],
   "source": [
    "class A:\n",
    "    def __init__(self,a):\n",
    "        self.a = a\n",
    "    def __add__(self,o):\n",
    "        return self.a+o.a\n",
    "obj1 = A(1)\n",
    "obj2 = A(2)\n",
    "obj3 = A('iNeuron')\n",
    "obj4 = A('FSDS')\n",
    "print(f'Sum = {obj1+obj2}')\n",
    "print(f'String Concatenation = {obj3+obj4}')"
   ]
  },
  {
   "cell_type": "markdown",
   "id": "7a36f7f0",
   "metadata": {},
   "source": [
    "### Q9. What are the two most important concepts to grasp in order to comprehend Python OOP code?\n",
    "Ans: Inheritance, and Polymorphism are two of most important concepts to grasp in order to comprehend python OOP code.\n"
   ]
  }
 ],
 "metadata": {
  "kernelspec": {
   "display_name": "Python 3 (ipykernel)",
   "language": "python",
   "name": "python3"
  },
  "language_info": {
   "codemirror_mode": {
    "name": "ipython",
    "version": 3
   },
   "file_extension": ".py",
   "mimetype": "text/x-python",
   "name": "python",
   "nbconvert_exporter": "python",
   "pygments_lexer": "ipython3",
   "version": "3.9.12"
  }
 },
 "nbformat": 4,
 "nbformat_minor": 5
}
